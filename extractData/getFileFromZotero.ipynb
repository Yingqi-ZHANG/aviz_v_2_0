{
 "cells": [
  {
   "cell_type": "code",
   "execution_count": 1,
   "metadata": {
    "collapsed": true
   },
   "outputs": [],
   "source": [
    "from xml.dom.minidom import parse\n",
    "import xml.dom.minidom\n",
    "import pandas as pd\n",
    "import numpy as np"
   ]
  },
  {
   "cell_type": "code",
   "execution_count": 2,
   "metadata": {
    "collapsed": true
   },
   "outputs": [],
   "source": [
    "#filePathRoot=\"H:/application/zoteroFichier/export/test/\""
   ]
  },
  {
   "cell_type": "code",
   "execution_count": null,
   "metadata": {
    "collapsed": true
   },
   "outputs": [],
   "source": [
    "#DOMTree = xml.dom.minidom.parse(\"H:/application/zoteroFichier/export/test/test.rdf\")\n",
    "#allNodes = DOMTree.documentElement"
   ]
  },
  {
   "cell_type": "code",
   "execution_count": 8,
   "metadata": {},
   "outputs": [],
   "source": [
    "#table = getDocFileList(filePathRoot)"
   ]
  },
  {
   "cell_type": "code",
   "execution_count": 9,
   "metadata": {},
   "outputs": [
    {
     "data": {
      "text/html": [
       "<div>\n",
       "<style>\n",
       "    .dataframe thead tr:only-child th {\n",
       "        text-align: right;\n",
       "    }\n",
       "\n",
       "    .dataframe thead th {\n",
       "        text-align: left;\n",
       "    }\n",
       "\n",
       "    .dataframe tbody tr th {\n",
       "        vertical-align: top;\n",
       "    }\n",
       "</style>\n",
       "<table border=\"1\" class=\"dataframe\">\n",
       "  <thead>\n",
       "    <tr style=\"text-align: right;\">\n",
       "      <th></th>\n",
       "      <th>docName</th>\n",
       "      <th>docUrl</th>\n",
       "      <th>attFilePath</th>\n",
       "      <th>path</th>\n",
       "    </tr>\n",
       "  </thead>\n",
       "  <tbody>\n",
       "    <tr>\n",
       "      <th>0</th>\n",
       "      <td>Cour de Cassation, Chambre criminelle, du 1 dé...</td>\n",
       "      <td>https://www.legifrance.gouv.fr/affichJuriJudi....</td>\n",
       "      <td>H:/application/zoteroFichier/export/test/files...</td>\n",
       "      <td>France/Normes/Jurisprudence/Civile/Cour de cas...</td>\n",
       "    </tr>\n",
       "    <tr>\n",
       "      <th>1</th>\n",
       "      <td>Cour de cassation, criminelle, Chambre crimine...</td>\n",
       "      <td>https://www.legifrance.gouv.fr/affichJuriJudi....</td>\n",
       "      <td>H:/application/zoteroFichier/export/test/files...</td>\n",
       "      <td>France/Normes/Jurisprudence/Civile/Cour de cas...</td>\n",
       "    </tr>\n",
       "  </tbody>\n",
       "</table>\n",
       "</div>"
      ],
      "text/plain": [
       "                                             docName  \\\n",
       "0  Cour de Cassation, Chambre criminelle, du 1 dé...   \n",
       "1  Cour de cassation, criminelle, Chambre crimine...   \n",
       "\n",
       "                                              docUrl  \\\n",
       "0  https://www.legifrance.gouv.fr/affichJuriJudi....   \n",
       "1  https://www.legifrance.gouv.fr/affichJuriJudi....   \n",
       "\n",
       "                                         attFilePath  \\\n",
       "0  H:/application/zoteroFichier/export/test/files...   \n",
       "1  H:/application/zoteroFichier/export/test/files...   \n",
       "\n",
       "                                                path  \n",
       "0  France/Normes/Jurisprudence/Civile/Cour de cas...  \n",
       "1  France/Normes/Jurisprudence/Civile/Cour de cas...  "
      ]
     },
     "execution_count": 9,
     "metadata": {},
     "output_type": "execute_result"
    }
   ],
   "source": [
    "#table"
   ]
  },
  {
   "cell_type": "code",
   "execution_count": 3,
   "metadata": {
    "collapsed": true
   },
   "outputs": [],
   "source": [
    "def getDocFileList(filePathRoot):\n",
    "    rdfFile = list(filter(lambda x: x and x.strip(), filePathRoot.split('/')))[-1]+'.rdf'\n",
    "    DOMTree = xml.dom.minidom.parse(filePathRoot+rdfFile)\n",
    "    allNodes = DOMTree.documentElement\n",
    "    zCollection = pd.DataFrame()\n",
    "    bibDoc = pd.DataFrame()\n",
    "    zAttachement = pd.DataFrame()\n",
    "    bibDoc = pd.DataFrame()\n",
    "    zCollection,colDoc = getColEtColdoc(allNodes)\n",
    "    zAttachement = getAtt(allNodes,filePathRoot)\n",
    "    bibDoc = getDoc(allNodes)\n",
    "    bibDoc = bibDoc.merge(zAttachement,on='attLink')[['docName','docUrl','attFilePath']]\n",
    "    colDoc = colDoc.merge(zCollection,on='colId')[['docUrl','path']]\n",
    "    bibDoc = bibDoc.merge(colDoc,on='docUrl')\n",
    "    return bibDoc"
   ]
  },
  {
   "cell_type": "code",
   "execution_count": 4,
   "metadata": {
    "collapsed": true
   },
   "outputs": [],
   "source": [
    "def collectionPath(rootId,zCollection):\n",
    "    root = zCollection[(zCollection['colId']==rootId)]\n",
    "    subcolIds = root['subcolId']\n",
    "    for subcolId in subcolIds:\n",
    "        colName = zCollection[zCollection['colId']==subcolId]['name']\n",
    "        zCollection.loc[zCollection['colId']==subcolId,'path']= root['path']+colName+'/'\n",
    "        if (zCollection[zCollection['colId']==subcolId]['subcolId'].notnull().values.any()):\n",
    "            zCollection = collectionPath(subcolId,zCollection)\n",
    "    return zCollection\n",
    "\n",
    "\n",
    "    "
   ]
  },
  {
   "cell_type": "code",
   "execution_count": 5,
   "metadata": {
    "collapsed": true,
    "scrolled": true
   },
   "outputs": [],
   "source": [
    "def getColEtColdoc(xmlDomElement): \n",
    "    zCollectionsXMl = xmlDomElement.getElementsByTagName(\"z:Collection\")\n",
    "    zCollection = pd.DataFrame()\n",
    "    colDoc = pd.DataFrame()\n",
    "    for collection in zCollectionsXMl:\n",
    "        colName = collection.getElementsByTagName('dc:title')[0].childNodes[0].nodeValue\n",
    "        #print(colName)\n",
    "        colId = collection.attributes.item(0).value\n",
    "        subcols = collection.getElementsByTagName('dcterms:hasPart')\n",
    "        for subcol in subcols:\n",
    "            subcolId = subcol.attributes.item(0).value\n",
    "            if subcolId.startswith('#collection'):\n",
    "                colInfo = pd.DataFrame()\n",
    "                colInfo['name']=[colName]\n",
    "                colInfo['colId']=[colId]\n",
    "                colInfo['subcolId']=[subcolId]\n",
    "                colInfo['path']=['']\n",
    "                zCollection = zCollection.append(colInfo)\n",
    "            else :\n",
    "                colDocInfo = pd.DataFrame()\n",
    "                colDocInfo['colId'] = [colId]\n",
    "                colDocInfo['docUrl']=[subcolId]\n",
    "                colDoc = colDoc.append(colDocInfo)\n",
    "                colInfo = pd.DataFrame()\n",
    "                colInfo['name']=[colName]\n",
    "                colInfo['colId']=[colId]\n",
    "                colInfo['path']=['']\n",
    "                zCollection = zCollection.append(colInfo)\n",
    "    zCollection = zCollection.drop_duplicates()\n",
    "    colDoc = colDoc.drop_duplicates()\n",
    "    rootId = (set(zCollection['colId'].unique())-set(zCollection['subcolId'].unique())).pop()\n",
    "    zCollection.loc[zCollection['colId']==rootId,'path'] = zCollection[zCollection['colId']==rootId]['name']+'/'\n",
    "    zCollection = collectionPath(rootId,zCollection)\n",
    "    return zCollection, colDoc"
   ]
  },
  {
   "cell_type": "code",
   "execution_count": 6,
   "metadata": {
    "collapsed": true
   },
   "outputs": [],
   "source": [
    "def getAtt(xmlDomElement,filePathRoot):\n",
    "    zAttachementsXML= xmlDomElement.getElementsByTagName('z:Attachment')\n",
    "    zAttachement = pd.DataFrame()\n",
    "    for att in zAttachementsXML:\n",
    "        attLink = att.attributes.item(0).value\n",
    "        attFilePath = att.getElementsByTagName(\"filepath\")[0].attributes.item(0).value\n",
    "        attInfo = pd.DataFrame()\n",
    "        attInfo['attLink']=[attLink]\n",
    "        attInfo['attFilePath']=[filePathRoot+attFilePath]\n",
    "        zAttachement = zAttachement.append(attInfo)\n",
    "    return zAttachement"
   ]
  },
  {
   "cell_type": "code",
   "execution_count": 7,
   "metadata": {},
   "outputs": [],
   "source": [
    "def getDoc(xmlDomElement):\n",
    "    bibDocsXML= xmlDomElement.getElementsByTagName(\"bib:Document\")\n",
    "    bibDoc = pd.DataFrame()\n",
    "    for doc in bibDocsXML:\n",
    "        docName = list(filter(lambda x:x.nodeName == \"dc:title\",doc.childNodes))[0].childNodes[0].nodeValue\n",
    "        docUrl = doc.getElementsByTagName(\"dc:identifier\")[0].getElementsByTagName(\"rdf:value\")[0].childNodes[0].nodeValue\n",
    "        docLink = doc.getElementsByTagName(\"link:link\")[0].attributes.item(0).value\n",
    "        docInfo = pd.DataFrame()\n",
    "        docInfo['docName']=[docName]\n",
    "        docInfo['docUrl']=[docUrl]\n",
    "        docInfo['attLink']=[docLink]\n",
    "        bibDoc=bibDoc.append(docInfo)\n",
    "    return bibDoc\n"
   ]
  },
  {
   "cell_type": "code",
   "execution_count": null,
   "metadata": {},
   "outputs": [],
   "source": []
  },
  {
   "cell_type": "code",
   "execution_count": null,
   "metadata": {},
   "outputs": [],
   "source": []
  },
  {
   "cell_type": "code",
   "execution_count": null,
   "metadata": {},
   "outputs": [],
   "source": []
  },
  {
   "cell_type": "code",
   "execution_count": null,
   "metadata": {
    "collapsed": true
   },
   "outputs": [],
   "source": []
  },
  {
   "cell_type": "code",
   "execution_count": null,
   "metadata": {
    "collapsed": true
   },
   "outputs": [],
   "source": []
  }
 ],
 "metadata": {
  "kernelspec": {
   "display_name": "Python [default]",
   "language": "python",
   "name": "python3"
  },
  "language_info": {
   "codemirror_mode": {
    "name": "ipython",
    "version": 3
   },
   "file_extension": ".py",
   "mimetype": "text/x-python",
   "name": "python",
   "nbconvert_exporter": "python",
   "pygments_lexer": "ipython3",
   "version": "3.6.1"
  }
 },
 "nbformat": 4,
 "nbformat_minor": 2
}
