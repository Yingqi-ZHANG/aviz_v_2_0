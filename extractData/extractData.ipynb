{
 "cells": [
  {
   "cell_type": "code",
   "execution_count": 2,
   "metadata": {
    "collapsed": true,
    "scrolled": true
   },
   "outputs": [],
   "source": [
    "import extractDataString\n",
    "import pdfToString\n",
    "import rtfToString\n",
    "import re\n",
    "import getFileFromZotero\n",
    "import pandas as pd\n",
    "import sys"
   ]
  },
  {
   "cell_type": "code",
   "execution_count": 26,
   "metadata": {},
   "outputs": [
    {
     "name": "stdout",
     "output_type": "stream",
     "text": [
      "['metaData']\n"
     ]
    }
   ],
   "source": [
    "#connecter avec MongoDB\n",
    "import pymongo\n",
    "\n",
    "avizDB = pymongo.MongoClient(host='localhost',port=27017)\n",
    "\n",
    "#name of database\n",
    "db = avizDB.canton\n",
    "\n",
    "#define the collection\n",
    "collection = db['metaData']\n"
   ]
  },
  {
   "cell_type": "code",
   "execution_count": 3,
   "metadata": {
    "collapsed": true
   },
   "outputs": [],
   "source": [
    "#filePathRoot=\"H:/application/zoteroFichier/export/test/\"\n",
    "filePathRoot = sys.argv\n",
    "print(filePathRoot)"
   ]
  },
  {
   "cell_type": "code",
   "execution_count": 4,
   "metadata": {
    "collapsed": true
   },
   "outputs": [],
   "source": [
    "docFile = pd.DataFrame()\n",
    "docFile = getFileFromZotero.getDocFileList(filePathRoot)"
   ]
  },
  {
   "cell_type": "code",
   "execution_count": 37,
   "metadata": {},
   "outputs": [
    {
     "name": "stdout",
     "output_type": "stream",
     "text": [
      "0\n",
      "Nom de la cour :  chambre criminelle\n",
      "Date de la décision :  1 décembre 2004\n",
      "Numéro de pourvoi :  04-82673\n",
      "Publication :  Non publié au bulletin\n",
      "Solution :  Rejet\n",
      "Président :   M. COTTE\n",
      "Décision attaquée :   cour d’appel de BASTIA chambre correctionnelle , du 24 mars 2004\n",
      "Tirages :  \n",
      "Résumée :  \n",
      "Précédents jurisprudentiels :  \n",
      "ECLI :  \n",
      "DocumentType :  CCASS\n",
      "docName :  Cour de Cassation, Chambre criminelle, du 1 décembre 2004, 04-82.673, Inédit\n",
      "docUrl :  https://www.legifrance.gouv.fr/affichJuriJudi.do?oldAction=rechJuriJudi&idTexte=JURITEXT000007612900&fastReqId=1274671198&fastPos=134\n",
      "_id :  https://www.legifrance.gouv.fr/affichJuriJudi.do?oldAction=rechJuriJudi&idTexte=JURITEXT000007612900&fastReqId=1274671198&fastPos=134\n",
      "attFilePath :  H:/application/zoteroFichier/export/test/files/2042/Cour de Cassation, Chambre criminelle, du 1 décemb.RTF\n",
      "path :  France/Normes/Jurisprudence/Civile/Cour de cassation/Chambre Criminelle/\n",
      "pathKey  : \n",
      "France\n",
      "Normes\n",
      "Jurisprudence\n",
      "Civile\n",
      "Cour de cassation\n",
      "Chambre Criminelle\n",
      "1\n",
      "Nom de la cour :  chambre criminelle\n",
      "Date de la décision :  28 juin 2017\n",
      "Numéro de pourvoi :  16-83372\n",
      "Publication :  Publié au bulletin\n",
      "Solution :  Cassation\n",
      "Président :  M. Guérin\n",
      "Décision attaquée :   Cour d’appel de Douai , du 21 mars 2016\n",
      "Tirages  : \n",
      "DOUANES\n",
      "Agent des douanes\n",
      "Agent de la douane judiciaire\n",
      "Compétence\n",
      "Compétence matérielle\n",
      "Infractions visées par l’article 28-1 du code de procédure pénale\n",
      "Enquête portant sur des infractions de droit commun\n",
      "Régularité\n",
      "Condition\n",
      "Résumée :  Les agents des douanes habilités ne peuvent effectuer des enquêtes judiciaires que sur réquisition du procureur de la République ou sur commission rogatoire du juge d’instruction visant les infractions mentionnées par l’article 28-1, I, 1° à 7°, du code de procédure pénale. Viole cette disposition la cour d’appel qui, pour refuser de faire droit à la demande du prévenu en nullité de la procédure diligentée par le service national de la douane judiciaire tirée de ce que celui-ci n’était pas compétent pour enquêter sur les éventuels faits d’abus de faiblesse signalés par la cellule TRACFIN, se prononce par des motifs desquels il ne ressort nullement que les réquisitions du procureur de la République saisissant la douane judiciaire ou la note de TRACFIN à laquelle ces réquisitions renvoyaient visaient l’une des infractions mentionnées par l’article 28-1 du code de procédure pénale\n",
      "Précédents jurisprudentiels :  Sur l’étendue des pouvoirs des agents de la douane judiciaire, à rapprocher :Crim., 9 avril 2015, pourvoi n° 14-87.660, Bull. crim. 2015, n° 76 (2 et 3) (rejet)\n",
      "ECLI :  ECLI:FR:CCASS:2017:CR01509\n",
      "DocumentType :  CCASS\n",
      "docName :  Cour de cassation, criminelle, Chambre criminelle, 28 juin 2017, 16-83.372, Publié au bulletin\n",
      "docUrl :  https://www.legifrance.gouv.fr/affichJuriJudi.do?oldAction=rechJuriJudi&idTexte=JURITEXT000035075526&fastReqId=1274671198&fastPos=16\n",
      "_id :  https://www.legifrance.gouv.fr/affichJuriJudi.do?oldAction=rechJuriJudi&idTexte=JURITEXT000035075526&fastReqId=1274671198&fastPos=16\n",
      "attFilePath :  H:/application/zoteroFichier/export/test/files/2046/2017 - Cour de cassation, criminelle, Chambre criminelle,.RTF\n",
      "path :  France/Normes/Jurisprudence/Civile/Cour de cassation/Chambre Criminelle/\n",
      "pathKey  : \n",
      "France\n",
      "Normes\n",
      "Jurisprudence\n",
      "Civile\n",
      "Cour de cassation\n",
      "Chambre Criminelle\n"
     ]
    }
   ],
   "source": [
    "for index,doc in docFile.iterrows():\n",
    "    fileName = doc['attFilePath']\n",
    "    fileType = fileName.split('.')[-1]\n",
    "    \n",
    "    #transformer les fichiers de type different en string\n",
    "    if(('rtf' == fileType) or ('RTF' == fileType)):\n",
    "        textString = rtfToString.convert(fileName)\n",
    "    elif(('pdf' == fileTyoe) or ('PDF' == fileType)):\n",
    "        textString\n",
    "        \n",
    "    #verifier le type de document et obtenir les metadonnées    \n",
    "    docType = extractDataString.checktype(textString)\n",
    "    textJson = extractDataString.extractDataByType(docType,textString)\n",
    "       \n",
    "    #enregister les données dans mongoDB\n",
    "    textJson['docName'] = doc['docName']\n",
    "    textJson['docUrl'] = doc['docUrl']\n",
    "    textJson['_id'] = doc['docUrl']\n",
    "    textJson['attFilePath'] = doc['attFilePath']\n",
    "    textJson['path'] = doc['path']\n",
    "    textJson['pathKey'] = list(filter(lambda x: x and x.strip(), doc['path'].split('/')))\n",
    "            \n",
    "    collection.replace_one({'_id':doc['docUrl']},textJson,upsert=True)    \n",
    "    print(index)\n",
    "    for item in textJson:\n",
    "        if list == type(textJson[item]):\n",
    "            print(item,\" : \")\n",
    "            for i in textJson[item]:    \n",
    "                print(i)\n",
    "        else:\n",
    "            print(item,': ', textJson[item]) \n",
    "     "
   ]
  },
  {
   "cell_type": "code",
   "execution_count": 19,
   "metadata": {},
   "outputs": [
    {
     "data": {
      "text/html": [
       "<div>\n",
       "<style>\n",
       "    .dataframe thead tr:only-child th {\n",
       "        text-align: right;\n",
       "    }\n",
       "\n",
       "    .dataframe thead th {\n",
       "        text-align: left;\n",
       "    }\n",
       "\n",
       "    .dataframe tbody tr th {\n",
       "        vertical-align: top;\n",
       "    }\n",
       "</style>\n",
       "<table border=\"1\" class=\"dataframe\">\n",
       "  <thead>\n",
       "    <tr style=\"text-align: right;\">\n",
       "      <th></th>\n",
       "      <th>docName</th>\n",
       "      <th>docUrl</th>\n",
       "      <th>attFilePath</th>\n",
       "      <th>path</th>\n",
       "    </tr>\n",
       "  </thead>\n",
       "  <tbody>\n",
       "    <tr>\n",
       "      <th>0</th>\n",
       "      <td>Cour de Cassation, Chambre criminelle, du 1 dé...</td>\n",
       "      <td>https://www.legifrance.gouv.fr/affichJuriJudi....</td>\n",
       "      <td>H:/application/zoteroFichier/export/test/files...</td>\n",
       "      <td>France/Normes/Jurisprudence/Civile/Cour de cas...</td>\n",
       "    </tr>\n",
       "    <tr>\n",
       "      <th>1</th>\n",
       "      <td>Cour de cassation, criminelle, Chambre crimine...</td>\n",
       "      <td>https://www.legifrance.gouv.fr/affichJuriJudi....</td>\n",
       "      <td>H:/application/zoteroFichier/export/test/files...</td>\n",
       "      <td>France/Normes/Jurisprudence/Civile/Cour de cas...</td>\n",
       "    </tr>\n",
       "  </tbody>\n",
       "</table>\n",
       "</div>"
      ],
      "text/plain": [
       "                                             docName  \\\n",
       "0  Cour de Cassation, Chambre criminelle, du 1 dé...   \n",
       "1  Cour de cassation, criminelle, Chambre crimine...   \n",
       "\n",
       "                                              docUrl  \\\n",
       "0  https://www.legifrance.gouv.fr/affichJuriJudi....   \n",
       "1  https://www.legifrance.gouv.fr/affichJuriJudi....   \n",
       "\n",
       "                                         attFilePath  \\\n",
       "0  H:/application/zoteroFichier/export/test/files...   \n",
       "1  H:/application/zoteroFichier/export/test/files...   \n",
       "\n",
       "                                                path  \n",
       "0  France/Normes/Jurisprudence/Civile/Cour de cas...  \n",
       "1  France/Normes/Jurisprudence/Civile/Cour de cas...  "
      ]
     },
     "execution_count": 19,
     "metadata": {},
     "output_type": "execute_result"
    }
   ],
   "source": [
    "\n"
   ]
  },
  {
   "cell_type": "code",
   "execution_count": null,
   "metadata": {
    "collapsed": true
   },
   "outputs": [],
   "source": []
  },
  {
   "cell_type": "code",
   "execution_count": null,
   "metadata": {
    "collapsed": true
   },
   "outputs": [],
   "source": []
  },
  {
   "cell_type": "code",
   "execution_count": 3,
   "metadata": {
    "collapsed": true
   },
   "outputs": [],
   "source": []
  },
  {
   "cell_type": "code",
   "execution_count": null,
   "metadata": {
    "collapsed": true
   },
   "outputs": [],
   "source": []
  }
 ],
 "metadata": {
  "kernelspec": {
   "display_name": "Python [default]",
   "language": "python",
   "name": "python3"
  },
  "language_info": {
   "codemirror_mode": {
    "name": "ipython",
    "version": 3
   },
   "file_extension": ".py",
   "mimetype": "text/x-python",
   "name": "python",
   "nbconvert_exporter": "python",
   "pygments_lexer": "ipython3",
   "version": "3.6.1"
  }
 },
 "nbformat": 4,
 "nbformat_minor": 2
}
