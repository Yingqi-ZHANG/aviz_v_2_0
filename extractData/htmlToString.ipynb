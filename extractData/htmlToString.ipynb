{
 "cells": [
  {
   "cell_type": "code",
   "execution_count": 16,
   "metadata": {},
   "outputs": [],
   "source": [
    "import socket\n",
    "import requests"
   ]
  },
  {
   "cell_type": "code",
   "execution_count": 5,
   "metadata": {
    "collapsed": true
   },
   "outputs": [],
   "source": [
    "url=\"https://www.legifrance.gouv.fr/affichJuriJudi.do?oldAction=rechJuriJudi&idTexte=JURITEXT000030639091&fastReqId=1274671198&fastPos=63\""
   ]
  },
  {
   "cell_type": "code",
   "execution_count": 17,
   "metadata": {},
   "outputs": [
    {
     "name": "stdout",
     "output_type": "stream",
     "text": [
      "request successfully\n"
     ]
    }
   ],
   "source": [
    "try:\n",
    "    response = requests.get(url)\n",
    "except urllib.error.URLError as e:\n",
    "    if isinstance(e.reason,socket.timeout):\n",
    "        print('Time Out')\n",
    "except urllib.error.HTTPError as e:\n",
    "    print(\"reason : \",e.reason,\" code : \",e.code,\" header : \",e.headers)\n",
    "else:\n",
    "    print(\"request successfully\")"
   ]
  },
  {
   "cell_type": "code",
   "execution_count": 19,
   "metadata": {},
   "outputs": [
    {
     "data": {
      "text/plain": [
       "str"
      ]
     },
     "execution_count": 19,
     "metadata": {},
     "output_type": "execute_result"
    }
   ],
   "source": [
    "type(response.text)"
   ]
  },
  {
   "cell_type": "code",
   "execution_count": 22,
   "metadata": {
    "collapsed": true
   },
   "outputs": [
    {
     "data": {
      "text/plain": [
       "'\\r\\n\\r\\n\\r\\n\\r\\n\\r\\n\\r\\n\\r\\n\\r\\n\\r\\n<!DOCTYPE HTML PUBLIC \"-//W3C//DTD HTML 4.01 Transitional//EN\" \"http://www.w3.org/TR/html4/loose.dtd\">\\r\\n<html lang=\"en\">\\r\\n\\t<head>\\r\\n\\t\\t<title>\\r\\n\\t\\tCour de cassation, criminelle, Chambre criminelle, 20 mai 2015, 14-82.767, Inédit | Legifrance</title>\\r\\n\\t\\r\\n\\t\\t\\r\\n\\t\\t<meta http-equiv=\"pragma\" content=\"no-cache\">\\r\\n\\t\\t<meta http-equiv=\"cache-control\" content=\"no-cache\">\\r\\n\\t\\t<meta http-equiv=\"expires\" content=\"0\">\\r\\n\\t\\t<meta http-equiv=\"description\" content=\"\">\\r\\n\\t\\t<meta http-equiv=\"Content-Type\" content=\"text/html; charset=UTF-8\">\\r\\n\\t\\t\\r\\n\\t\\t\\r\\n\\t\\t<script src=\"./js/legifranceJavascript.js\" type=\"text/javascript\"></script>\\r\\n\\t\\t<script src=\\'./js/jquery-1.6.4.min.js\\' type=\"text/javascript\"></script>\\r\\n\\t\\t<script src=\\'./js/legifrance.js\\' type=\"text/javascript\"></script>\\r\\n\\t\\t<script src=\"./js/popcalendar.js\" type=\"text/javascript\"></script>\\r\\n\\t\\t<script src=\"./js/skip.js\" type=\"text/javascript\"></script>\\r\\n\\t\\t<script src=\\'./js/encap.js\\' type=\"text/javascript\"></script>\\r\\n\\t\\t\\r\\n\\t\\t<link rel=\"stylesheet\" type=\"text/css\" href=\"./css_legifrance/style_for_print.css\" media=\"print, handheld\">\\r\\n\\t\\t<link rel=\"stylesheet\" type=\"text/css\" href=\"./css_legifrance/style.css\" media=\"screen\">\\r\\n\\t\\t<link rel=\"stylesheet\" type=\"text/css\" href=\"./css_legifrance/squelette_for_print.css\" media=\"print, handheld\" > \\r\\n\\t\\t<link rel=\"stylesheet\" type=\"text/css\" href=\"./css_legifrance/squelette.css\" media=\"screen\" >\\r\\n\\t\\t<link rel=\"stylesheet\" type=\"text/css\" href=\"./css_legifrance/popup.css\" media=\"screen\">\\r\\n\\t\\t<link rel=\"stylesheet\" type=\"text/css\" href=\"./css_legifrance/commun.css\" media=\"screen\">\\r\\n\\t\\t<!--[if lte IE 7]>\\r\\n\\t\\t\\t<link href=\"./css_legifrance/squelette_IE6.css\" rel=\"stylesheet\" type=\"text/css\" media=\"screen\">\\r\\n\\t\\t\\t<link href=\"./css_legifrance/commun_IE6.css\" rel=\"stylesheet\" type=\"text/css\" media=\"screen\">\\r\\n\\t\\t<![endif]-->\\r\\n\\t\\t<link rel=\"shortcut icon\" type=\"image/x-icon\" href=\"./img/favicon.ico\" >\\r\\n\\t\\r\\n\\t\\r\\n\\t\\r\\n\\t\\t\\r\\n\\t</head>\\r\\n\\r\\n\\t<body onload=\"displayIfJsEnabled()\">\\r\\n\\t\\t\\r\\n\\t\\t<div id=\"body\">\\r\\n\\t\\t\\t<div id=\"header\">\\r\\n\\t\\t\\t\\t\\r\\n\\r\\n\\r\\n\\r\\n\\r\\n\\r\\n\\r\\n\\r\\n\\r\\n<h1>\\r\\n\\t<a href=\"/\" title=\"L&eacute;gifrance, le service public de l\\'acc&egrave;s au droit - Accueil\">\\r\\n\\t   <img src=\"/img/Legifrance-Le-service-public-de-l-acces-au-droit.jpg\" alt=\"Légifrance, le service public de l\\'accès au droit - Accueil\" /><span>Legifrance - Le service public de l\\'accès au droit</span>\\r\\n\\t</a>\\r\\n</h1>\\r\\n<!--[if lte IE 7]>\\r\\n\\t<div id=\"logoLegifrance\">\\r\\n\\t\\t<a href=\"/\" title=\"L&eacute;gifrance, le service public de l\\'acc&egrave;s au droit - Accueil\">\\r\\n\\t\\t\\t   <img src=\"/img/Legifrance-Le-service-public-de-l-acces-au-droit.jpg\" alt=\"Légifrance, le service public de l\\'accès au droit - Accueil\">\\r\\n\\t\\t</a>\\r\\n\\t</div>\\r\\n<![endif]-->\\r\\n\\r\\n<ul id=\"skip\">\\r\\n\\t<li>\\r\\n\\t\\t<a href=\"#content\">Aller au contenu</a>\\r\\n\\t</li>\\r\\n\\t<li>\\r\\n\\t\\t<a href=\"#nav\">Aller à la navigation générale</a>\\r\\n\\t</li>\\r\\n</ul>\\r\\n<p class=\"date\">\\r\\n\\t\\r\\n    \\r\\n    mercredi 2 mai 2018\\r\\n</p>\\r\\n<p id=\"infos_maj\">\\r\\n\\t<a title=\"Informations de mise à jour des textes\" href=\"/Bases-de-donnees/Mises-a-jour\">Informations de mise à jour</a>\\r\\n</p>\\r\\n<ul id=\"nav\">\\r\\n\\t<li class=\"nomobile\">\\r\\n\\t\\t<a href=\"/\" title=\"L&eacute;gifrance, le service public de l\\'acc&egrave;s au droit - Accueil\"><span>Accueil</span></a>\\r\\n\\t</li>\\r\\n\\t<li>\\r\\n\\t\\t<a href=\"/Droit-francais\">Droit français</a>\\r\\n\\t</li>\\r\\n\\t<li>\\r\\n\\t\\t<a href=\"/Droit-europeen\">Droit européen</a>\\r\\n\\t</li>\\r\\n\\t<li>\\r\\n\\t\\t<a href=\"/Droit-international\">Droit international</a>\\r\\n\\t</li>\\r\\n\\t<li>\\r\\n\\t\\t<a href=\"/Traductions\">Traductions</a>\\r\\n\\t</li>\\r\\n\\t<li>\\r\\n\\t\\t<a href=\"/Bases-de-donnees\" class=\"active\"><strong>Bases de données</strong></a>\\r\\n\\t</li>\\r\\n</ul>\\r\\n\\r\\n\\r\\n\\r\\n\\t\\t\\t\\t<p id=\"breadcrumb\">\\r\\n\\t\\t\\t\\t\\tVous êtes dans :&nbsp;\\r\\n\\t\\t\\t\\t\\t\\r\\n\\r\\n\\r\\n<a href=\"/;jsessionid=DAAFE1A6205D7845B5B3F47C824B4E34.tplgfr36s_2\">Accueil</a><span class=\"path-separator\">&gt;</span>\\r\\n\\r\\n\\r\\n\\t<a href=\"/./initRechJuriJudi.do;jsessionid=DAAFE1A6205D7845B5B3F47C824B4E34.tplgfr36s_2\">Recherche simple dans la jurisprudence judiciaire</a><span class=\"path-separator\">&gt;</span>\\r\\n\\r\\n\\t\\t\\t\\t\\t\\r\\n\\t\\t\\t\\t\\t\\r\\n\\t\\t\\t\\t\\t\\r\\n\\t\\t\\t\\t\\t<strong>Cour de cassation, criminelle, Chambre criminelle, 20 mai 2015, 14-82.767, Inédit</strong>\\r\\n\\t\\t\\t\\t\\t\\r\\n\\t\\t\\t\\t</p>\\r\\n\\t\\t\\t</div>\\r\\n\\t\\t\\t\\r\\n\\t\\t\\t<div id=\"content\">\\r\\n\\t\\t\\t\\t<h2 class=\"title\">\\r\\n\\t\\t\\t\\t\\tCour de cassation, criminelle, Chambre criminelle, 20 mai 2015, 14-82.767, Inédit\\r\\n\\t\\t\\t\\t</h2>\\r\\n\\t\\t\\t\\t\\r\\n\\t\\t\\t\\t<div class=\"fct_links_top\">\\r\\n\\t\\t\\t\\t\\t\\r\\n\\r\\n\\r\\n\\r\\n\\r\\n\\r\\n\\r\\n\\r\\n\\r\\n<div class=\"left\">\\r\\n\\t&nbsp;\\r\\n</div>\\r\\n\\r\\n<div class=\"right\">\\r\\n\\t\\r\\n\\t<a class=\"hiddenJs\" href=\"javascript:imprimer();\">Imprimer</a>\\r\\n</div>\\r\\n<br clear=\"all\" />\\r\\n\\t\\t\\t\\t</div>\\r\\n\\t\\t\\t\\t\\r\\n\\t\\t\\t\\t<div id=\"content_false\">\\r\\n\\t\\t\\t\\t\\t<div class=\"data\">\\r\\n\\t\\t\\t\\t\\t\\t\\r\\n\\r\\n\\r\\n\\r\\n\\r\\n\\r\\n\\r\\n\\r\\n\\r\\n\\r\\n\\r\\n\\r\\n\\r\\n\\r\\n\\r\\n\\r\\n<h3>Références</h3>\\r\\n<strong>\\r\\n\\t\\r\\n\\t\\r\\n\\t\\r\\n\\t\\r\\n\\t\\t\\r\\n\\t\\t\\r\\n\\t\\t\\t\\r\\n\\t\\t\\t\\tCour de cassation\\r\\n\\t\\t\\t\\r\\n\\t\\t\\t\\r\\n\\t\\t\\r\\n\\t\\r\\n\\t<br/>\\r\\n\\t\\r\\n\\t\\r\\n\\t\\r\\n\\t\\t\\r\\n\\t\\t\\r\\n\\t\\t\\r\\n\\t\\t\\r\\n\\t\\t\\r\\n\\t\\t\\r\\n\\t\\t\\r\\n\\t\\t\\r\\n\\t\\t\\r\\n\\t\\t\\t\\r\\n\\t\\t\\t\\t\\r\\n\\t\\t\\t\\t\\tchambre criminelle\\r\\n\\t\\t\\t\\t\\r\\n\\t\\t\\t\\r\\n\\t\\t\\r\\n\\t\\r\\n\\t<br />\\r\\n\\t\\r\\n\\t<!-- Date de l\\'audience publique -->\\r\\n\\t\\r\\n\\t\\r\\n\\t\\t\\t\\r\\n\\t\\t\\tAudience publique du \\r\\n\\t\\t\\tmercredi 20 mai 2015\\r\\n\\t\\t\\t<br />\\r\\n\\t\\r\\n\\r\\n\\t<!-- Numéro de pourvoi -->\\r\\n\\t\\r\\n\\t\\r\\n\\t\\r\\n\\t\\t\\r\\n\\t\\t\\r\\n\\t\\t\\tN° de pourvoi: \\r\\n\\t\\t\\r\\n\\t\\t\\r\\n\\t\\t \\t\\r\\n\\t\\t \\t \\r\\n\\t\\t\\t14-82767 \\r\\n\\t\\t \\r\\n\\t\\t <br/>\\r\\n\\t\\r\\n\\r\\n<!-- \\t\\r\\n\\t\\r\\n\\t\\r\\n\\t\\tN° de pourvoi: \\r\\n\\t\\t14-82767\\r\\n\\t\\t<br />\\r\\n\\t\\r\\n\\t-->\\r\\n</strong>\\r\\n\\r\\n\\r\\n\\r\\n\\r\\n\\r\\n\\t\\r\\n\\t\\tNon publié au bulletin\\r\\n\\t\\r\\n\\r\\n\\r\\n<span style=\"float: right\">\\r\\n\\t<strong>\\r\\n\\t\\tRejet\\r\\n\\t</strong>\\r\\n</span>\\r\\n\\r\\n<br />\\r\\n<br />\\r\\n\\r\\n\\r\\n\\r\\n\\t<strong>M. Guérin (président), président</strong>\\r\\n\\t<br />\\r\\n\\r\\n\\r\\n\\r\\n\\r\\n\\r\\n\\r\\n\\r\\n\\tMe Haas, avocat(s)\\r\\n\\t<br />\\r\\n\\r\\n<br />\\r\\n<hr />\\r\\n<br />\\r\\n<h3>Texte intégral</h3>\\r\\n<div class=\"gras centre\">\\r\\n\\tREPUBLIQUE FRANCAISE<br /><br />AU NOM DU PEUPLE FRANCAIS\\r\\n</div>\\r\\n\\r\\n<br /><br />\\r\\n\\r\\n\\r\\n\\r\\n<CONTENU>\\n<p>LA COUR DE CASSATION, CHAMBRE CRIMINELLE, a rendu l\\'arrêt suivant : </p>\\n<p>Statuant sur le pourvoi formé par :<br clear=\"none\"/>\\n<br clear=\"none\"/>\\n<br clear=\"none\"/>- Mme Fouzia X..., <br clear=\"none\"/>\\n<br clear=\"none\"/>\\n<br clear=\"none\"/>contre l\\'arrêt de la cour d\\'appel de MONTPELLIER, chambre correctionnelle, en date du 18 mars 2014, qui, pour travail dissimulé et blanchiment, l\\'a condamnée à dix-huit mois d\\'emprisonnement avec sursis et mise à l\\'épreuve, 7 500 euros d\\'amende et a ordonné une mesure de confiscation ;<br clear=\"none\"/>\\n<br clear=\"none\"/>La COUR, statuant après débats en l\\'audience publique du 25 mars 2015 où étaient présents dans la formation prévue à l\\'article 567-1-1 du code de procédure pénale : M. Guérin, président, M. Azema, conseiller rapporteur, Mme Nocquet, conseiller de la chambre ;<br clear=\"none\"/>\\n<br clear=\"none\"/>Greffier de chambre : Mme Randouin ;<br clear=\"none\"/>\\n<br clear=\"none\"/>Sur le rapport de M. le conseiller référendaire AZEMA, les observations de Me HAAS, avocat en la Cour, et les conclusions de M. l\\'avocat général LACAN ;<br clear=\"none\"/>\\n<br clear=\"none\"/>Vu le mémoire produit ;<br clear=\"none\"/>\\n<br clear=\"none\"/>Sur le moyen unique de cassation, pris de la violation des articles 324-1 du code pénal, 1741 du code général des impôts, 591 et 593 du code de procédure pénale, dénaturation ;<br clear=\"none\"/>\\n<br clear=\"none\"/>\"en ce que l\\'arrêt attaqué a déclaré la prévenue coupable du délit de blanchiment de fraude fiscale et, en répression, l\\'a condamnée à dix-huit mois d\\'emprisonnement avec sursis et mise à l\\'épreuve pendant trois ans et à une amende délictuelle de 7 500 euros, et a ordonné la confiscation des scellées à hauteur de la moitié des sommes confisquées ;<br clear=\"none\"/>\\n<br clear=\"none\"/>\"aux motifs que si le fait de placer des espèces dans le coffre d\\'un établissement bancaire ne suffit pas en soi à caractériser \"une opération de placement, de dissimulation ou de conversion du produit direct ou indirect d\\'un crime ou d\\'un délit\", Mme X... a néanmoins déclaré, lors de l\\'ouverture du coffre le 14 mars 2002, des montants ou valeurs inférieurs à 200 000 francs, soit 36 625,19 euros, ce qui était mensonger puisque le montant des espèces totalise la somme de 89 644,73 euros et que la valeur des titres se monte à 89 707,73 euros ; qu\\'il y a eu manifestement volonté de dissimulation de sa part du produit des infractions ressortant du travail dissimulé et de la fraude fiscale ; que, par ailleurs, les bons au porteur anonymes et souscrits en espèces, les titres de capitalisation au porteur, les souscriptions anonymes de titres de capitalisation en espèce, et assurance-vie retrouvés pour un montant de 89 707,63 euros dans le coffre de Mme X... correspondent à des placements financiers ayant pour but de convertir les espèces recueillies illicitement en titres anonymes afin d\\'occulter le véritable bénéficiaire de l\\'opération et aux fins de dissimuler l\\'origine frauduleuse des fonds ; qu\\'étant l\\'auteur des délits d\\'origine reconnus par elle, à savoir le travail dissimulé et la fraude fiscale, étant précisé qu\\'il n\\'est pas nécessaire que la fraude fiscale ait été préalablement poursuivie pour que le délit de blanchiment de fraude fiscale puisse être poursuivi et réprimé, Mme X... n\\'ignorait pas l\\'origine frauduleuse des sommes ainsi dissimulées ou converties, ce qui caractérise en tous ses éléments le délit de blanchiment ; que, comme en matière de recel, le délai de prescription du blanchiment commence à courir au jour où la dissimulation ou le placement cesse, ce qui n\\'a été le cas qu\\'au moment de la perquisition du 26 février 2009 et de la saisie des avoirs ;<br clear=\"none\"/>\\n<br clear=\"none\"/>\"1°) alors que le juge répressif ne peut prononcer une peine sans avoir relevé tous les éléments constitutifs de l\\'infraction qu\\'il réprime ; que la cour d\\'appel, qui n\\'a pas caractérisé l\\'existence d\\'une fraude fiscale au sens de l\\'article 1741 du code général des impôts, dont elle s\\'est bornée à relever, au demeurant à tort, qu\\'elle était « reconnue » par la prévenue, n\\'a pas caractérisé le délit de blanchiment de fraude fiscale en tous ses éléments constitutifs ;<br clear=\"none\"/>\\n<br clear=\"none\"/>\"2°) alors que, dans une des articulations essentielles de ses conclusions d\\'appel, la prévenue soutenait que le délit de fraude fiscale n\\'était pas caractérisé, ce dont elle déduisait qu\\'un des éléments essentiels du délit de blanchiment de fraude fiscale n\\'était pas constitué ; que, dès lors, la cour d\\'appel ne pouvait pas, pour considérer que le délit de blanchiment de fraude fiscale était constitué, relevé que le délit originaire de fraude fiscale avait été « reconnu » par la prévenue ;<br clear=\"none\"/>\\n<br clear=\"none\"/>\"3°) alors que la prévenue était poursuivie pour des faits de blanchiment de fraude fiscale commis, selon la prévention, entre 2006 et 2009 ; que, dès lors, la cour d\\'appel ne pouvait pas, pour estimer l\\'infraction constituée, déduire la matérialité de la dissimulation, élément constitutif du délit, d\\'un fait dont elle constatait elle-même qu\\'il avait été commis en 2002, lors de l\\'ouverture du coffre\" ;<br clear=\"none\"/>\\n<br clear=\"none\"/>Attendu que les énonciations de l\\'arrêt attaqué et du jugement qu\\'il confirme mettent la Cour de cassation en mesure de s\\'assurer que la cour d\\'appel a, sans insuffisance ni contradiction, répondu aux chefs péremptoires des conclusions régulièrement déposées devant elle, et caractérisé, en tous leurs éléments, tant matériel qu\\'intentionnel, les délits de travail dissimulé et blanchiment dont elle a déclarée la prévenue coupable ;<br clear=\"none\"/>\\n<br clear=\"none\"/>D\\'où il suit que le moyen, qui revient à remettre en question l\\'appréciation souveraine, par les juges du fond, des faits et circonstances de la cause, ainsi que des éléments de preuve contradictoirement débattus, ne saurait être accueilli ;<br clear=\"none\"/>\\n<br clear=\"none\"/>Et attendu que l\\'arrêt est régulier en la forme ;<br clear=\"none\"/>\\n<br clear=\"none\"/>REJETTE le pourvoi ;<br clear=\"none\"/>\\n<br clear=\"none\"/>Ainsi fait et jugé par la Cour de cassation, chambre criminelle, et prononcé par le président le vingt mai deux mille quinze ;<br clear=\"none\"/>\\n<br clear=\"none\"/>En foi de quoi le présent arrêt a été signé par le président, le rapporteur et le greffier de chambre.<br clear=\"none\"/>\\n</p>\\n\\n</CONTENU>\\n\\r\\n\\r\\n\\r\\n\\r\\n\\r\\n\\r\\n    <br />\\r\\n    <hr />\\r\\n    <br />\\r\\n    \\r\\n\\t\\t\\r\\n\\t\\t\\t<b>ECLI:FR:CCASS:2015:CR01908</b>\\r\\n\\t\\t\\t<br />\\r\\n\\t\\t\\r\\n    <h3>Analyse</h3>\\r\\n\\t<b>Décision attaquée : </b>Cour d\\'appel de Montpellier\\n\\t\\t\\t\\t , du 18 mars 2014<br/><br/>\\n\\r\\n\\t&nbsp;\\r\\n\\r\\n\\r\\n<div id=\"exportRTF\">\\r\\n\\t<span class=\"exportRTF\">\\r\\n\\t\\t\\r\\n\\t\\t\\t\\t\\r\\n\\t\\t\\r\\n\\t\\t<a href=\\'telecharger_rtf.do?idTexte=JURITEXT000030639091&amp;origine=juriJudi\\' onclick=\" return xt_click(this,\\'C\\',\\'1\\',\\'Telechargements::RTF::Cour_de_cassation~_criminelle~_Chambre_criminelle~_20_mai_2015~_14-82.767~_Inedit\\',\\'T\\') \">\\r\\n\\t\\t\\tTélécharger le document en RTF (poids &lt; 1Mo)\\r\\n\\t\\t</a> \\r\\n\\t</span>\\r\\n\\t<br clear=\"all\"/>\\r\\n\\t<br clear=\"all\"/>\\r\\n</div>\\r\\n\\r\\n\\t\\t\\t\\t\\t</div>\\r\\n\\t\\t\\t\\t</div>\\r\\n\\t\\t\\t\\t\\r\\n\\t\\t\\t\\t<div class=\"fct_links_bottom\">\\r\\n\\t\\t\\t\\t\\t\\r\\n\\r\\n\\r\\n\\r\\n\\r\\n\\r\\n\\r\\n\\r\\n\\r\\n<div class=\"left\">\\r\\n\\t&nbsp;\\r\\n</div>\\r\\n\\r\\n<div class=\"right\">\\r\\n\\t\\r\\n\\t<a class=\"hiddenJs\" href=\"javascript:imprimer();\">Imprimer</a>\\r\\n</div>\\r\\n<br clear=\"all\" />\\r\\n\\t\\t\\t\\t</div>\\r\\n\\t\\t\\t</div>\\r\\n\\r\\n\\t\\t\\t\\r\\n \\r\\n\\r\\n\\r\\n\\r\\n\\r\\n\\r\\n\\r\\n<div id=\"footer\">\\r\\n\\t<ul>\\r\\n\\t\\t<li>\\r\\n\\t\\t\\t<a href=\"/Aide/A-propos-de-l-ordre-juridique-francais\" title=\"&Agrave; propos de l\\'ordre juridique fran&ccedil;ais\">À propos de l\\'ordre juridique français</a>\\r\\n\\t\\t</li>\\r\\n\\t\\t<li>\\r\\n\\t\\t\\t<a href=\"/Informations/Licences\" title=\"Licences\">Licences</a>\\r\\n\\t\\t</li>\\r\\n\\t\\t<li>\\r\\n\\t\\t\\t<a href=\"/Informations/Quoi-de-neuf\" title=\"Quoi de neuf sur le site ?\">Quoi de neuf sur le site ?</a>\\r\\n\\t\\t</li>\\r\\n\\t</ul>\\r\\n\\t<ul>\\r\\n\\t\\t<li>\\r\\n\\t\\t\\t<a href=\"/Informations/A-propos-du-site\" title=\"&Agrave; propos du site\">À propos du site</a>\\r\\n\\t\\t</li>\\r\\n\\t\\t<li>\\r\\n\\t\\t\\t<a href=\"/Informations/Plan-du-site\" title=\"Plan du site\">Plan du site</a>\\r\\n\\t\\t</li>\\r\\n\\t\\t<li>\\r\\n\\t\\t\\t<a href=\"/Informations/Accessibilite/\" title=\"Accessibilit&eacute;\">Accessibilité</a>\\r\\n\\t\\t</li>\\r\\n\\t\\t<li>\\r\\n\\t\\t\\t<a href=\"/Aide/Aide-generale\" title=\"Aide g&eacute;n&eacute;rale\">Aide générale</a>\\r\\n\\t\\t</li>\\r\\n\\t\\t<li>\\r\\n\\t\\t\\t<a href=\"/Aide/Nous-ecrire\" title=\"Nous &eacute;crire\">Nous écrire</a>\\r\\n\\t\\t</li>\\r\\n\\t\\t<li>\\r\\n\\t\\t\\t<a href=\"/Aide/Etablir-un-lien\" title=\"&Eacute;tablir un lien\">Établir un lien</a>\\r\\n\\t\\t</li>\\r\\n\\t</ul>\\r\\n\\t\\r\\n\\t\\r\\n\\t\\r\\n\\t\\r\\n\\t\\r\\n\\t\\r\\n\\t\\r\\n</div>\\r\\n\\r\\n<!-- MARQUAGE XiTi  -->\\r\\n<script type=\"text/JavaScript\">\\n<!--\\nxt_form = \"&f1=JURITEXT000030639091&f2=JURI&f3=ARRET&f4=Cour_de_cassation~_criminelle~_Chambre_criminelle~_20_mai_2015~_14-82.767~_Inedit&f5=Cour_de_cassation&f6=CHAMBRE_CRIMINELLE&f7=Rejet&f8=&f9=&f10=\";\\n//do not modify below\\nif (window.xtparam!=null) {window.xtparam+=xt_form;}\\nelse {window.xtparam = xt_form;};\\n//-->\\n</script>\\n<script type=\"text/JavaScript\">\\n<!--\\nxtnv = document;        //parent.document or top.document or document         \\nxtsd = \"https://logs4\";\\nxtsite = \"124093\";\\nxtn2 = \"5\";       // level 2 site ID\\nxtpage = \"Jurisprudence_judiciaire::consultation::detail_Jurisprudence_judiciaire\"; //page name (with the use of :: to create chapters)\\nxtdi = \"\";          //implication degree\\nxtergo=\"0\";     //ClickZone activation\\nxt_multc = \"\";  //all the xi indicators (like \"&x1=...&x2=....&x3=...\")\\nxt_an = \"\";      //user ID\\nxt_ac = \"\";        //category ID\\n//do not modify below\\nif (window.xtparam!=null){window.xtparam+=xt_multc+\"&ac=\"+xt_ac+\"&an=\"+xt_an;}\\nelse{window.xtparam=xt_multc+\"&ac=\"+xt_ac+\"&an=\"+xt_an;};\\n//-->\\n</script>\\n<script type=\"text/JavaScript\" src=\"/js/xtcore.js\"></script>\\n<noscript>\\n<img width=\"1\" height=\"1\" src=\"https://logs4.xiti.com/hit.xiti?s=124093&amp;s2=5&amp;p=Jurisprudence_judiciaire::consultation::detail_Jurisprudence_judiciaire&amp;di=&amp;an=&amp;ac=\" alt=\"\" />\\n</noscript>\\n\\r\\n\\r\\n<!-- DEBUG DES XML Sources ! -->\\r\\n\\r\\n\\r\\n\\r\\n\\r\\n\\r\\n\\r\\n\\t\\t\\t\\r\\n\\t\\t</div>\\r\\n\\t<script type=\"text/javascript\">\\n//<![CDATA[\\n(function() {\\nvar _analytics_scr = document.createElement(\\'script\\');\\n_analytics_scr.type = \\'text/javascript\\'; _analytics_scr.async = true; _analytics_scr.src = \\'/_Incapsula_Resource?SWJIYLWA=719d34d31c8e3a6e6fffd425f7e032f3&ns=1&cb=1571847959\\';\\nvar _analytics_elem = document.getElementsByTagName(\\'script\\')[0]; _analytics_elem.parentNode.insertBefore(_analytics_scr, _analytics_elem);\\n})();\\n// ]]>\\n</script></body>\\r\\n</html>\\r\\n'"
      ]
     },
     "execution_count": 22,
     "metadata": {},
     "output_type": "execute_result"
    }
   ],
   "source": [
    "response.content.decode(\"utf-8\")"
   ]
  },
  {
   "cell_type": "code",
   "execution_count": null,
   "metadata": {
    "collapsed": true
   },
   "outputs": [],
   "source": [
    "MongoDB\\Server\\3.6\\"
   ]
  },
  {
   "cell_type": "code",
   "execution_count": 1,
   "metadata": {
    "collapsed": true
   },
   "outputs": [],
   "source": [
    "from bs4 import BeautifulSoup"
   ]
  },
  {
   "cell_type": "code",
   "execution_count": 23,
   "metadata": {},
   "outputs": [
    {
     "name": "stderr",
     "output_type": "stream",
     "text": [
      "H:\\application\\Anaconda\\lib\\site-packages\\bs4\\__init__.py:181: UserWarning: No parser was explicitly specified, so I'm using the best available HTML parser for this system (\"lxml\"). This usually isn't a problem, but if you run this code on another system, or in a different virtual environment, it may use a different parser and behave differently.\n",
      "\n",
      "The code that caused this warning is on line 193 of the file H:\\application\\Anaconda\\lib\\runpy.py. To get rid of this warning, change code that looks like this:\n",
      "\n",
      " BeautifulSoup(YOUR_MARKUP})\n",
      "\n",
      "to this:\n",
      "\n",
      " BeautifulSoup(YOUR_MARKUP, \"lxml\")\n",
      "\n",
      "  markup_type=markup_type))\n"
     ]
    }
   ],
   "source": [
    "soup = BeautifulSoup(response.content.decode(\"utf-8\"))"
   ]
  },
  {
   "cell_type": "code",
   "execution_count": 32,
   "metadata": {},
   "outputs": [],
   "source": [
    "text = soup.find(\"div\",class_=\"data\").get_text().replace('\\r','').replace('\\t','')"
   ]
  },
  {
   "cell_type": "code",
   "execution_count": 33,
   "metadata": {
    "collapsed": true
   },
   "outputs": [],
   "source": [
    "import extractDataString"
   ]
  },
  {
   "cell_type": "code",
   "execution_count": 37,
   "metadata": {},
   "outputs": [
    {
     "name": "stdout",
     "output_type": "stream",
     "text": [
      "Nom de la cour :  chambre criminelle\n",
      "Date de la décision :  \n",
      "Numéro de pourvoi :  \n",
      "Publication :  Publié au bulletin\n",
      "Solution :  Cassation\n",
      "Président :  M. Guérin\n",
      "Décision attaquée :   Cour d'appel de Douai\n",
      "Tirages  : \n",
      "DOUANES\n",
      "Agent des douanes\n",
      " Agent de la douane judiciaire\n",
      " Compétence\n",
      " Compétence matérielle\n",
      " Infractions visées par l'article 28-1 du code de procédure pénale\n",
      " Enquête portant sur des infractions de droit commun\n",
      " Régularité\n",
      " Condition\n",
      "Résumée :  Les agents des douanes habilités ne peuvent effectuer des enquêtes judiciaires que sur réquisition du procureur de la République ou sur commission rogatoire du juge d'instruction visant les infractions mentionnées par l'article 28-1, I, 1° à 7°, du code de procédure pénale.\n",
      "Précédents jurisprudentiels :  \n",
      "ECLI :  ECLI:FR:CCASS:2017:CR01509\n",
      "DocumentType :  CCASS\n"
     ]
    }
   ],
   "source": [
    "doctype=extractDataString.checktype(text)\n",
    "textjson = extractDataString.extractDataByType(doctype,text)\n",
    "for item in textjson:\n",
    "    if list == type(textjson[item]):\n",
    "        print(item,\" : \")\n",
    "        for i in textjson[item]:    \n",
    "            print(i)\n",
    "    else:\n",
    "        print(item,': ', textjson[item]) "
   ]
  },
  {
   "cell_type": "code",
   "execution_count": 35,
   "metadata": {
    "collapsed": true
   },
   "outputs": [],
   "source": [
    "url=\"https://www.legifrance.gouv.fr/affichJuriJudi.do?oldAction=rechJuriJudi&idTexte=JURITEXT000035075526&fastReqId=1986329556&fastPos=11\""
   ]
  },
  {
   "cell_type": "code",
   "execution_count": 36,
   "metadata": {},
   "outputs": [
    {
     "name": "stderr",
     "output_type": "stream",
     "text": [
      "H:\\application\\Anaconda\\lib\\site-packages\\bs4\\__init__.py:181: UserWarning: No parser was explicitly specified, so I'm using the best available HTML parser for this system (\"lxml\"). This usually isn't a problem, but if you run this code on another system, or in a different virtual environment, it may use a different parser and behave differently.\n",
      "\n",
      "The code that caused this warning is on line 193 of the file H:\\application\\Anaconda\\lib\\runpy.py. To get rid of this warning, change code that looks like this:\n",
      "\n",
      " BeautifulSoup(YOUR_MARKUP})\n",
      "\n",
      "to this:\n",
      "\n",
      " BeautifulSoup(YOUR_MARKUP, \"lxml\")\n",
      "\n",
      "  markup_type=markup_type))\n"
     ]
    }
   ],
   "source": [
    "text = BeautifulSoup(requests.get(url).content.decode(\"utf-8\")).find(\"div\",class_=\"data\").get_text().replace('\\r','').replace('\\t','')"
   ]
  }
 ],
 "metadata": {
  "kernelspec": {
   "display_name": "Python [default]",
   "language": "python",
   "name": "python3"
  },
  "language_info": {
   "codemirror_mode": {
    "name": "ipython",
    "version": 3
   },
   "file_extension": ".py",
   "mimetype": "text/x-python",
   "name": "python",
   "nbconvert_exporter": "python",
   "pygments_lexer": "ipython3",
   "version": "3.6.1"
  }
 },
 "nbformat": 4,
 "nbformat_minor": 2
}
