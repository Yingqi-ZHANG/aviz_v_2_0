{
 "cells": [
  {
   "cell_type": "code",
   "execution_count": 1,
   "metadata": {
    "collapsed": true
   },
   "outputs": [],
   "source": [
    "import re"
   ]
  },
  {
   "cell_type": "code",
   "execution_count": 2,
   "metadata": {
    "collapsed": true
   },
   "outputs": [],
   "source": [
    "CNSPattern = 'Commission Nationale des Sanctions'\n",
    "ACPRPattern = '(AUTORITÉ) DE CONTR(Ô|O)LE PRUDENTIEL ?e?t? ?d?e? ?r?é?s?o?l?u?t?i?o?n? ?(?: \\n)* ?Commission des Sanctions'\n",
    "CCASSPattern = 'Cours de cassation' "
   ]
  },
  {
   "cell_type": "code",
   "execution_count": 3,
   "metadata": {
    "collapsed": true
   },
   "outputs": [],
   "source": [
    "def checktype(text):\n",
    "    #regCheckCNS = re.search(CNSPattern,text,re.I)\n",
    "    #regCheckACPR = re.search(ACPRPattern,text,re.I)\n",
    "    if(not(re.search(CNSPattern,text,re.I) is None)):\n",
    "        return 'CNS'\n",
    "    elif(not(re.search(ACPRPattern,text,re.I) is None)):\n",
    "        return 'ACPR'\n",
    "    elif(not(re.search(CCASSPattern,text,re.I is None))):\n",
    "        return 'CCASS'"
   ]
  },
  {
   "cell_type": "code",
   "execution_count": 8,
   "metadata": {
    "collapsed": true
   },
   "outputs": [],
   "source": [
    "def metaDataCNS(textType,text):\n",
    "    numdossier = re.search(' Dossier n(?:°|o) (\\d\\d\\d\\d-\\d\\d)',text,re.I)\n",
    "    dateaudiencecns = re.search(' Audience du (\\d* \\S* \\d*)',text,re.I)\n",
    "    datedecisioncns = re.search(' D(?:e|é)cision rendue le (\\d* \\S* \\d*)',text,re.I)\n",
    "    president = re.search('en la présence de (.*) en sa qualité de président',text,re.I)\n",
    "    cns = re.search('CNS\\S,? (.*);',text,re.I)\n",
    "    textecns = re.search('vu le (code .*)notamment ses (.*) et ([A-Z]\\.\\d+-\\d+ ?);',text,re.I)\n",
    "    resume = re.search(' ni adjonction ?\\S? ?\\n?([\\S\\f \\n]*)Fait à',text,re.I)\n",
    "    myjson = {\"FileNumber\" : numdossier,\n",
    "        \"AudienceDate\" : dateaudiencecns,\n",
    "        \"DecisionDate\" : datedecisioncns,\n",
    "        \"President\" : president,\n",
    "        \"Commission\" : cns,\n",
    "        \"Text\" : textecns,\n",
    "        \"Minutes\" : resume }\n",
    "    for item in myjson:\n",
    "        if myjson[item] != None:\n",
    "            myjson[item] = myjson[item].group(1)\n",
    "        else:\n",
    "            myjson[item] =\"\"\n",
    "    return myjson\n",
    "    \n",
    "def metaDataACPR(textType,text):\n",
    "    misencause = re.search('(?:Décision.*)*(?:\\n)*(?:Le Conseil.*)*(?:\\n)*(?:.*a formé*.*)*(?:\\n)*(.*)(?:\\n)*(?:-|_)*(.*)(?:\\n)*(.*)(?:\\n)*procédures?',text,re.I)\n",
    "    procnumber = re.search('procédures? n(?:o|°)s? (\\d\\d\\d\\d-\\d\\d ?e?t? ?\\d?\\d?\\d?(?:\\d-)?\\d?\\d? ?b?i?s?)',text,re.I)\n",
    "    dateaudienceacpr = re.search('(?:audition|audience) du (.*\\d\\d\\d\\d)(?: |\\n)* *.*rendu',text,re.I)\n",
    "    datedecisionacpr = re.search('(?:audition|audience).*(?:\\n)*.*rendue? le (.*\\d\\d\\d\\d)(?:\\n)*',text,re.I)\n",
    "    quantum = re.search('procédures? n(?:o|°)s? \\d\\d\\d\\d-\\d\\d(?: et \\d\\d\\d\\d-\\d\\d)?(?:bis)? *(?:\\n)*(.*)(?:\\n)*(.*)(?:\\n)*(.*)(?:\\n)*(.*)(?:audience|audition)',text,re.I)\n",
    "    presidentacpr = re.search(' de (.*), Président',text,re.I)\n",
    "    commission = re.search(', Président, e?t? ?d?e? ?(.*)',text,re.I)\n",
    "    grief = re.search('notification des? griefs du (\\d+ \\S+ \\d+)',text,re.I)\n",
    "    collegerep = re.search('\\d+ par lesquels (.*), représentant du collège',text,re.I)\n",
    "    rapporteur = re.search('\\d+,? de (.*), rapporteur',text,re.I)\n",
    "    texteacpr = re.search('vu le(?: )*(Code .*)',text,re.I)\n",
    "    myjson = {\"Questioned\" : misencause,\n",
    "        \"FileNumber\" : procnumber,\n",
    "        \"AudienceDate\" : dateaudienceacpr,\n",
    "        \"DecisionDate\" : datedecisionacpr,\n",
    "        \"Quantum\" : quantum,\n",
    "        \"President\" : presidentacpr,\n",
    "        \"Commission\" : commission,\n",
    "        \"GriefNotificationDate\" : grief,\n",
    "        \"CollegeRepresentant\" : collegerep,\n",
    "        \"Reporter\" : rapporteur,\n",
    "        \"Text\" : texteacpr}\n",
    "    for item in myjson:\n",
    "        if myjson[item] != None:\n",
    "            myjson[item] = myjson[item].group(1)\n",
    "        else:\n",
    "            myjson[item] =\"\"\n",
    "                \n",
    "    return myjson\n"
   ]
  },
  {
   "cell_type": "code",
   "execution_count": 25,
   "metadata": {},
   "outputs": [],
   "source": [
    "def metaDataCCASS(textType,text):\n",
    "    nomCour=re.search('cour de cassation(?: |\\n)*(chambre criminelle|chambre civile)',text,re.I)\n",
    "    dateDecision=re.search('audience publique du (.*)(?:\\n)',text,re.I)\n",
    "    numPourvoi=re.search('N° de pourvoi: (\\d\\d-\\d\\d\\d\\d\\d)\\n',text,re.I)\n",
    "    publication=re.search('(?:\\n)*(Non publié au bulletin|Inédit|publié au bulletin)(?:\\n)*',text,re.I)\n",
    "    solution=re.search('(?:\\n)+(Rejet|Cassation|Cassation Partielle)(?:\\n)+',text,re.I)\n",
    "    if solution != None:\n",
    "        president=re.search(solution.group(1)+'(?:\\n)*(?:président :)?(.*)(?: \\(président\\))?(?:, président)(?:\\n)+',text,re.I)\n",
    "    else:\n",
    "        president = re.search('(?:\\n)*(?:président :)?(.*)(?: \\(président\\))?(?:, président)(?:\\n)+',text,re.I)\n",
    "    decisionAttquee=re.search('Décision attaquée ?:(.*)(?:\\n)+',text,re.I)\n",
    "    tirages=re.search('Titrages et résumés : (.*)(?:\\n)+',text,re.I)\n",
    "    if tirages != None:\n",
    "        resumee=re.search(tirages.group(1)+'(?:\\n)+(.*)(?:\\n)+',text,re.I)\n",
    "    else:\n",
    "        resumee=None\n",
    "    precedent=re.search('(?:\\n)+Précédents jurisprudentiels : (.*)(?:\\n)+',text,re.I)\n",
    "    ecli=re.search('(?:\\n)+(ECLI:(?:\\w)+:(?:\\w)+:(?:\\d){4}:(?:\\w|\\d|.){0,25})(?:\\n)+',text,re.I)\n",
    "    myjson={\n",
    "        \"Nom de la cour\":nomCour,\n",
    "        \"Date de la décision\":dateDecision,\n",
    "        \"Numéro de pourvoi\":numPourvoi,\n",
    "        \"Publication\":publication,\n",
    "        \"Solution\":solution,\n",
    "        \"Président\":president,\n",
    "        \"Décision attaquée\":decisionAttquee,\n",
    "        \"Tirages\":tirages,\n",
    "        \"Résumée\":resumee,\n",
    "        \"Précédents jurisprudentiels\":precedent,\n",
    "        \"ECLI\" :ecli\n",
    "    }\n",
    "    for item in myjson:\n",
    "        if myjson[item] != None:\n",
    "            myjson[item] = myjson[item].group(1)\n",
    "        else:\n",
    "            myjson[item] =\"\"\n",
    "    if myjson['Tirages'] != \"\":\n",
    "        myjson['Tirages'] = myjson['Tirages'].split(\" - \")\n",
    "     \n",
    "    return myjson\n",
    "    "
   ]
  },
  {
   "cell_type": "code",
   "execution_count": null,
   "metadata": {},
   "outputs": [],
   "source": []
  },
  {
   "cell_type": "code",
   "execution_count": 26,
   "metadata": {
    "collapsed": true
   },
   "outputs": [],
   "source": [
    "def extractDataByType(textType,text):\n",
    "    if('CNS' == textType):\n",
    "        myjson=metaDataCNS(textType,text)   \n",
    "        \n",
    "    if('ACPR' == textType):\n",
    "        myjson=metaDataACPR(textType,text)\n",
    "        \n",
    "    if('CCASS' == textType):\n",
    "        myjson=metaDataCCASS(textType,text)\n",
    "        \n",
    "    myjson['DocumentType']=textType\n",
    "    return myjson\n",
    "        \n",
    "\n"
   ]
  },
  {
   "cell_type": "code",
   "execution_count": null,
   "metadata": {},
   "outputs": [],
   "source": []
  }
 ],
 "metadata": {
  "kernelspec": {
   "display_name": "Python [default]",
   "language": "python",
   "name": "python3"
  },
  "language_info": {
   "codemirror_mode": {
    "name": "ipython",
    "version": 3
   },
   "file_extension": ".py",
   "mimetype": "text/x-python",
   "name": "python",
   "nbconvert_exporter": "python",
   "pygments_lexer": "ipython3",
   "version": "3.6.1"
  }
 },
 "nbformat": 4,
 "nbformat_minor": 2
}
